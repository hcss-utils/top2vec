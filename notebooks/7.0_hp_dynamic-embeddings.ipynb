{
 "cells": [
  {
   "cell_type": "code",
   "execution_count": 1,
   "id": "abandoned-grammar",
   "metadata": {},
   "outputs": [],
   "source": [
    "import pandas as pd"
   ]
  },
  {
   "cell_type": "code",
   "execution_count": 2,
   "id": "demonstrated-contributor",
   "metadata": {},
   "outputs": [],
   "source": [
    "df = pd.read_csv(\"../data/processed/dynamic-embeddings.csv\")"
   ]
  },
  {
   "cell_type": "markdown",
   "id": "tender-demonstration",
   "metadata": {},
   "source": [
    "# basic counts for static ggplot"
   ]
  },
  {
   "cell_type": "code",
   "execution_count": 3,
   "id": "latter-blackberry",
   "metadata": {},
   "outputs": [],
   "source": [
    "g = pd.merge(\n",
    "    df.groupby([\"year\", \"label\"], as_index=False).size(),\n",
    "    df.groupby(\"year\", as_index=False).size(),\n",
    "    how=\"left\",\n",
    "    on=\"year\",\n",
    "    suffixes=(\"_per_topic\", \"_per_year\")\n",
    ")"
   ]
  },
  {
   "cell_type": "code",
   "execution_count": 4,
   "id": "yellow-tsunami",
   "metadata": {},
   "outputs": [],
   "source": [
    "g[\"pct\"] = (g[\"size_per_topic\"] / g[\"size_per_year\"] * 100).round(2)"
   ]
  },
  {
   "cell_type": "code",
   "execution_count": 5,
   "id": "published-afghanistan",
   "metadata": {},
   "outputs": [],
   "source": [
    "g.to_csv(\"../data/processed/dynamic-embeddings-counts.csv\", index=False)"
   ]
  },
  {
   "cell_type": "markdown",
   "id": "accompanied-baptist",
   "metadata": {},
   "source": [
    "## interactive bokeh"
   ]
  },
  {
   "cell_type": "code",
   "execution_count": 6,
   "id": "buried-seventh",
   "metadata": {},
   "outputs": [],
   "source": [
    "from bokeh.models import ColumnDataSource, HoverTool, Range1d, CustomJS, Slider\n",
    "from bokeh.plotting import figure, show, output_file, save\n",
    "from bokeh.layouts import column"
   ]
  },
  {
   "cell_type": "code",
   "execution_count": 7,
   "id": "packed-break",
   "metadata": {},
   "outputs": [],
   "source": [
    "source = ColumnDataSource(\n",
    "    data={\n",
    "        \"x\": df[\"x\"],\n",
    "        \"y\": df[\"y\"],\n",
    "        \"colors\": df[\"color\"],\n",
    "        \"topic\": df[\"label\"],\n",
    "        \"title\": df[\"title\"],\n",
    "        \"author\": df[\"author\"],\n",
    "        \"year\": df[\"year\"],\n",
    "        \"alpha\": [0.7] * df.shape[0],\n",
    "        \"size\": [7] * df.shape[0]\n",
    "    }\n",
    ")\n",
    "\n",
    "hover_emb = HoverTool(names=[\"df\"], tooltips=\"\"\"\n",
    "    <div style=\"margin: 10\">\n",
    "        <div style=\"margin: 0 auto; width:300px;\">\n",
    "            <span style=\"font-size: 12px; font-weight: bold;\">Topic:</span>\n",
    "            <span style=\"font-size: 12px\">@topic</span>\n",
    "            <span style=\"font-size: 12px; font-weight: bold;\">Title:</span>\n",
    "            <span style=\"font-size: 12px\">@title</span>\n",
    "            <span style=\"font-size: 12px; font-weight: bold;\">Author:</span>\n",
    "            <span style=\"font-size: 12px\">@author</span>   \n",
    "            <span style=\"font-size: 12px; font-weight: bold;\">Year:</span>\n",
    "            <span style=\"font-size: 12px\">@year</span>         \n",
    "        </div>\n",
    "    </div>\n",
    "    \"\"\")"
   ]
  },
  {
   "cell_type": "code",
   "execution_count": 8,
   "id": "rural-terror",
   "metadata": {},
   "outputs": [
    {
     "name": "stderr",
     "output_type": "stream",
     "text": [
      "BokehDeprecationWarning: 'legend' keyword is deprecated, use explicit 'legend_label', 'legend_field', or 'legend_group' keywords instead\n"
     ]
    }
   ],
   "source": [
    "tools_emb = [hover_emb, 'pan', 'wheel_zoom', 'reset']\n",
    "plot = figure(\n",
    "    plot_width=800, \n",
    "    plot_height=800, \n",
    "    tools=tools_emb, \n",
    "    title='UMAP projection of 2D embeddings')\n",
    "plot.circle(\n",
    "    \"x\", \n",
    "    \"y\", \n",
    "    size=\"size\", \n",
    "    fill_color=\"colors\",\n",
    "    alpha=\"alpha\", \n",
    "    line_alpha=0, \n",
    "    line_width=0.01, \n",
    "    source=source, \n",
    "    name=\"df\", \n",
    "    legend=\"topic\"\n",
    ")\n",
    "\n",
    "plot.legend.location = \"bottom_left\"\n",
    "plot.legend.label_text_font_size= \"8pt\"\n",
    "plot.legend.background_fill_alpha = 0.0\n",
    "plot.legend.spacing = -5\n",
    "\n",
    "# plot.x_range = Range1d(-10, 10)\n",
    "plot.x_range = Range1d(-2, 17)\n",
    "plot.y_range = Range1d(-5, 15)\n",
    "# plot.y_range = Range1d(-10, 10)"
   ]
  },
  {
   "cell_type": "code",
   "execution_count": 9,
   "id": "capable-middle",
   "metadata": {},
   "outputs": [
    {
     "data": {
      "text/plain": [
       "'C:\\\\github\\\\top2vec\\\\reports\\\\figures\\\\interactive_callbacks.html'"
      ]
     },
     "execution_count": 9,
     "metadata": {},
     "output_type": "execute_result"
    }
   ],
   "source": [
    "callback = CustomJS(args=dict(source=source), code=\n",
    "    \"\"\"\n",
    "    var data = source.data\n",
    "    console.log(data)\n",
    "    var f = cb_obj.value\n",
    "    var x = data['x']\n",
    "    var y = data['y']\n",
    "    var colors = data['color']\n",
    "    var alpha = data['alpha']\n",
    "    var title = data['title']\n",
    "    var year = data['year']\n",
    "    var size = data['size']\n",
    "    for (var i = 0; i < x.length; i++) {\n",
    "        if (year[i] <= f) {\n",
    "            alpha[i] = 0.9\n",
    "            size[i] = 7\n",
    "        } else {\n",
    "            alpha[i] = 0.05\n",
    "            size[i] = 4\n",
    "        }\n",
    "    }\n",
    "    source.change.emit();\n",
    "    \"\"\")\n",
    "\n",
    "slider = Slider(start=df.year.min(), end=df.year.max()+1, value=2020, step=1, title=\"Before year\")\n",
    "slider.js_on_change(\"value\", callback)\n",
    "\n",
    "layout = column(slider, plot)\n",
    "output_file(\"../reports/figures/interactive_callbacks.html\")\n",
    "save(layout)"
   ]
  }
 ],
 "metadata": {
  "kernelspec": {
   "display_name": "Python 3",
   "language": "python",
   "name": "python3"
  },
  "language_info": {
   "codemirror_mode": {
    "name": "ipython",
    "version": 3
   },
   "file_extension": ".py",
   "mimetype": "text/x-python",
   "name": "python",
   "nbconvert_exporter": "python",
   "pygments_lexer": "ipython3",
   "version": "3.8.5"
  }
 },
 "nbformat": 4,
 "nbformat_minor": 5
}
