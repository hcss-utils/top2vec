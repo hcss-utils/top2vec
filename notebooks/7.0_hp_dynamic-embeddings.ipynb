{
 "cells": [
  {
   "cell_type": "code",
   "execution_count": 1,
   "id": "obvious-philippines",
   "metadata": {},
   "outputs": [],
   "source": [
    "import pandas as pd"
   ]
  },
  {
   "cell_type": "code",
   "execution_count": 2,
   "id": "dressed-queue",
   "metadata": {},
   "outputs": [],
   "source": [
    "df = pd.read_csv(\"../data/processed/dynamic-embeddings.csv\")"
   ]
  },
  {
   "cell_type": "code",
   "execution_count": null,
   "id": "canadian-wedding",
   "metadata": {},
   "outputs": [],
   "source": []
  },
  {
   "cell_type": "code",
   "execution_count": 3,
   "id": "opposite-tomato",
   "metadata": {},
   "outputs": [
    {
     "data": {
      "text/plain": [
       "Korean Peninsula security/nuclear issues                       8.889560\n",
       "Catholic church and deterrence                                 8.150021\n",
       "India/Pakistani nuclear tensions                               7.308607\n",
       "Unidentifiable                                                 6.199298\n",
       "Nuclear deterrence                                             6.135155\n",
       "MENA region security issues                                    5.572954\n",
       "U.S. defense budgeting and policy-making                       4.954156\n",
       "Non-Proliferation                                              4.814549\n",
       "British nuclear security policy                                4.527789\n",
       "Anti-Ballistic missile defense                                 4.456099\n",
       "Cyber deterrence                                               4.403275\n",
       "Asia-Pacific region security issues                            4.331585\n",
       "U.S. Nuclear weapon modernization and nuclear strategy         4.316492\n",
       "U.S. Air Force                                                 4.282534\n",
       "U.S. and maintaining of the World order                        4.082557\n",
       "U.S. - Russia nuclear cooperation and competition              4.007094\n",
       "'Perestroika' Cold War security issues                         3.863714\n",
       "Transatlantic cooperation and NATO-Russia rivalry in Europe    3.584500\n",
       "Russian nuclear security policy                                3.120401\n",
       "India's nuclear security policy                                2.999660\n",
       "Name: label, dtype: float64"
      ]
     },
     "execution_count": 3,
     "metadata": {},
     "output_type": "execute_result"
    }
   ],
   "source": [
    "df[\"label\"].value_counts(normalize=True) * 100"
   ]
  },
  {
   "cell_type": "code",
   "execution_count": 9,
   "id": "olympic-theology",
   "metadata": {},
   "outputs": [
    {
     "data": {
      "text/html": [
       "<div>\n",
       "<style scoped>\n",
       "    .dataframe tbody tr th:only-of-type {\n",
       "        vertical-align: middle;\n",
       "    }\n",
       "\n",
       "    .dataframe tbody tr th {\n",
       "        vertical-align: top;\n",
       "    }\n",
       "\n",
       "    .dataframe thead th {\n",
       "        text-align: right;\n",
       "    }\n",
       "</style>\n",
       "<table border=\"1\" class=\"dataframe\">\n",
       "  <thead>\n",
       "    <tr style=\"text-align: right;\">\n",
       "      <th></th>\n",
       "      <th>year</th>\n",
       "      <th>N</th>\n",
       "    </tr>\n",
       "  </thead>\n",
       "  <tbody>\n",
       "    <tr>\n",
       "      <th>0</th>\n",
       "      <td>1957.0</td>\n",
       "      <td>2</td>\n",
       "    </tr>\n",
       "    <tr>\n",
       "      <th>1</th>\n",
       "      <td>1958.0</td>\n",
       "      <td>1</td>\n",
       "    </tr>\n",
       "    <tr>\n",
       "      <th>2</th>\n",
       "      <td>1959.0</td>\n",
       "      <td>2</td>\n",
       "    </tr>\n",
       "    <tr>\n",
       "      <th>3</th>\n",
       "      <td>1960.0</td>\n",
       "      <td>6</td>\n",
       "    </tr>\n",
       "    <tr>\n",
       "      <th>4</th>\n",
       "      <td>1961.0</td>\n",
       "      <td>7</td>\n",
       "    </tr>\n",
       "    <tr>\n",
       "      <th>...</th>\n",
       "      <td>...</td>\n",
       "      <td>...</td>\n",
       "    </tr>\n",
       "    <tr>\n",
       "      <th>59</th>\n",
       "      <td>2016.0</td>\n",
       "      <td>1987</td>\n",
       "    </tr>\n",
       "    <tr>\n",
       "      <th>60</th>\n",
       "      <td>2017.0</td>\n",
       "      <td>2668</td>\n",
       "    </tr>\n",
       "    <tr>\n",
       "      <th>61</th>\n",
       "      <td>2018.0</td>\n",
       "      <td>1905</td>\n",
       "    </tr>\n",
       "    <tr>\n",
       "      <th>62</th>\n",
       "      <td>2019.0</td>\n",
       "      <td>1518</td>\n",
       "    </tr>\n",
       "    <tr>\n",
       "      <th>63</th>\n",
       "      <td>2020.0</td>\n",
       "      <td>1724</td>\n",
       "    </tr>\n",
       "  </tbody>\n",
       "</table>\n",
       "<p>64 rows × 2 columns</p>\n",
       "</div>"
      ],
      "text/plain": [
       "      year     N\n",
       "0   1957.0     2\n",
       "1   1958.0     1\n",
       "2   1959.0     2\n",
       "3   1960.0     6\n",
       "4   1961.0     7\n",
       "..     ...   ...\n",
       "59  2016.0  1987\n",
       "60  2017.0  2668\n",
       "61  2018.0  1905\n",
       "62  2019.0  1518\n",
       "63  2020.0  1724\n",
       "\n",
       "[64 rows x 2 columns]"
      ]
     },
     "execution_count": 9,
     "metadata": {},
     "output_type": "execute_result"
    }
   ],
   "source": [
    "df.groupby(\"year\", as_index=False).agg(\n",
    "    N=(\"doc_id\", \"count\"),\n",
    ")"
   ]
  },
  {
   "cell_type": "code",
   "execution_count": 12,
   "id": "contained-element",
   "metadata": {},
   "outputs": [],
   "source": [
    "g = pd.merge(\n",
    "    df.groupby([\"year\", \"label\"], as_index=False).size(),\n",
    "    df.groupby(\"year\", as_index=False).size(),\n",
    "    how=\"left\",\n",
    "    on=\"year\",\n",
    "    suffixes=(\"_per_topic\", \"_per_year\")\n",
    ")"
   ]
  },
  {
   "cell_type": "code",
   "execution_count": 15,
   "id": "proper-therapy",
   "metadata": {},
   "outputs": [],
   "source": [
    "g[\"pct\"] = (g[\"size_per_topic\"] / g[\"size_per_year\"] * 100).round(2)"
   ]
  },
  {
   "cell_type": "code",
   "execution_count": 17,
   "id": "designing-nigeria",
   "metadata": {},
   "outputs": [],
   "source": [
    "g.to_csv(\"../data/processed/dynamic-embeddings-counts.csv\", index=False)"
   ]
  }
 ],
 "metadata": {
  "kernelspec": {
   "display_name": "Python 3",
   "language": "python",
   "name": "python3"
  },
  "language_info": {
   "codemirror_mode": {
    "name": "ipython",
    "version": 3
   },
   "file_extension": ".py",
   "mimetype": "text/x-python",
   "name": "python",
   "nbconvert_exporter": "python",
   "pygments_lexer": "ipython3",
   "version": "3.8.5"
  }
 },
 "nbformat": 4,
 "nbformat_minor": 5
}
