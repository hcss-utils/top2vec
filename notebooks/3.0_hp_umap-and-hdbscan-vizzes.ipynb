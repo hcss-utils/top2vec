{
 "cells": [
  {
   "cell_type": "markdown",
   "id": "wrong-chassis",
   "metadata": {},
   "source": [
    "# Vizzes\n",
    "\n",
    "* [umap docs](https://umap-learn.readthedocs.io/en/latest/)\n",
    "* [hdbscan docs](https://hdbscan.readthedocs.io/en/latest/how_hdbscan_works.html)\n",
    "* someone's [issue](https://github.com/ddangelov/Top2Vec/issues/42)\n",
    "* someone's [attempt](https://github.com/ddangelov/Top2Vec/issues/48#issuecomment-712452308)"
   ]
  },
  {
   "cell_type": "code",
   "execution_count": 1,
   "id": "conceptual-crack",
   "metadata": {},
   "outputs": [],
   "source": [
    "import umap\n",
    "import hdbscan\n",
    "from top2vec import Top2Vec"
   ]
  },
  {
   "cell_type": "code",
   "execution_count": null,
   "id": "legal-ticket",
   "metadata": {},
   "outputs": [],
   "source": []
  }
 ],
 "metadata": {
  "kernelspec": {
   "display_name": "Python 3",
   "language": "python",
   "name": "python3"
  },
  "language_info": {
   "codemirror_mode": {
    "name": "ipython",
    "version": 3
   },
   "file_extension": ".py",
   "mimetype": "text/x-python",
   "name": "python",
   "nbconvert_exporter": "python",
   "pygments_lexer": "ipython3",
   "version": "3.8.5"
  }
 },
 "nbformat": 4,
 "nbformat_minor": 5
}
