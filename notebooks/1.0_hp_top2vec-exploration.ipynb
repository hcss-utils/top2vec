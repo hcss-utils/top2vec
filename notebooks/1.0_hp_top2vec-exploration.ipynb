{
 "cells": [
  {
   "cell_type": "markdown",
   "metadata": {},
   "source": [
    "# ProQuest: Topic Modelling and Search with Top2Vec"
   ]
  },
  {
   "cell_type": "code",
   "execution_count": 1,
   "metadata": {},
   "outputs": [],
   "source": [
    "import json\n",
    "from top2vec import Top2Vec"
   ]
  },
  {
   "cell_type": "code",
   "execution_count": 2,
   "metadata": {},
   "outputs": [],
   "source": [
    "with open(\"../data/raw/210119_en_deter_preprocessed.json\", \"r\", encoding=\"utf-8\") as f:\n",
    "    data = json.load(f)"
   ]
  },
  {
   "cell_type": "code",
   "execution_count": 3,
   "metadata": {},
   "outputs": [],
   "source": [
    "docs = [doc.get(\"fulltext\", \"\") for doc in data if not doc.get(\"fulltext\", \"\").startswith(\"Not available.\")]"
   ]
  },
  {
   "cell_type": "code",
   "execution_count": 4,
   "metadata": {},
   "outputs": [
    {
     "name": "stderr",
     "output_type": "stream",
     "text": [
      "2021-02-05 11:23:24,410 - top2vec - INFO - Pre-processing documents for training\n",
      "2021-02-05 11:28:21,436 - top2vec - INFO - Creating joint document/word embedding\n",
      "2021-02-05 11:39:24,835 - top2vec - INFO - Creating lower dimension embedding of documents\n",
      "2021-02-05 11:40:28,047 - top2vec - INFO - Finding dense areas of documents\n",
      "2021-02-05 11:40:32,922 - top2vec - INFO - Finding topics\n"
     ]
    }
   ],
   "source": [
    "top2vec = Top2Vec(documents=docs, speed=\"test-learn\", workers=2)\n",
    "# top2vec = Top2Vec(documents=docs, embedding_model=\"universal-sentence-encoder\")"
   ]
  },
  {
   "cell_type": "code",
   "execution_count": 5,
   "metadata": {},
   "outputs": [],
   "source": [
    "top2vec.save(\"../models/pq-model\")"
   ]
  },
  {
   "cell_type": "markdown",
   "metadata": {},
   "source": [
    "## Search Topics"
   ]
  },
  {
   "cell_type": "code",
   "execution_count": 23,
   "metadata": {},
   "outputs": [],
   "source": [
    "topic_words, word_scores, topic_scores, topic_nums = top2vec.search_topics(\n",
    "    keywords=[\"russia\"], \n",
    "#     keywords_neg=[],\n",
    "    num_topics=20\n",
    ")"
   ]
  },
  {
   "cell_type": "markdown",
   "metadata": {},
   "source": [
    "## Search Papers by Topic"
   ]
  },
  {
   "cell_type": "code",
   "execution_count": 42,
   "metadata": {},
   "outputs": [],
   "source": [
    "documents, document_scores, document_nums = top2vec.search_documents_by_topic(\n",
    "    topic_num=20, \n",
    "    num_docs=5\n",
    ")"
   ]
  },
  {
   "cell_type": "markdown",
   "metadata": {},
   "source": [
    "## Search Papers by Keywords"
   ]
  },
  {
   "cell_type": "code",
   "execution_count": 51,
   "metadata": {},
   "outputs": [],
   "source": [
    "documents, document_scores, document_nums = top2vec.search_documents_by_keywords(\n",
    "    keywords=[\"russia\"], \n",
    "#     keywords_neg=[],\n",
    "    num_docs=20\n",
    ")"
   ]
  },
  {
   "cell_type": "markdown",
   "metadata": {},
   "source": [
    "## Find Similar Words"
   ]
  },
  {
   "cell_type": "code",
   "execution_count": 56,
   "metadata": {},
   "outputs": [],
   "source": [
    "words, word_scores = top2vec.similar_words(\n",
    "    keywords=[\"russia\"], \n",
    "    keywords_neg=[], \n",
    "    num_words=20\n",
    ")"
   ]
  },
  {
   "cell_type": "code",
   "execution_count": 57,
   "metadata": {},
   "outputs": [
    {
     "data": {
      "text/plain": [
       "array(['russian', 'moscow', 'russias', 'ukraine', 'kremlin', 'putin',\n",
       "       'dmitry', 'vladimir', 'kommersant', 'dmitri', 'crimea',\n",
       "       'kaliningrad', 'eastward', 'golts', 'kiev', 'lavrov', 'izvestia',\n",
       "       'putins', 'medvedev', 'cis'], dtype='<U11')"
      ]
     },
     "execution_count": 57,
     "metadata": {},
     "output_type": "execute_result"
    }
   ],
   "source": [
    "words"
   ]
  }
 ],
 "metadata": {
  "kernelspec": {
   "display_name": "Python 3",
   "language": "python",
   "name": "python3"
  },
  "language_info": {
   "codemirror_mode": {
    "name": "ipython",
    "version": 3
   },
   "file_extension": ".py",
   "mimetype": "text/x-python",
   "name": "python",
   "nbconvert_exporter": "python",
   "pygments_lexer": "ipython3",
   "version": "3.8.5"
  }
 },
 "nbformat": 4,
 "nbformat_minor": 4
}
